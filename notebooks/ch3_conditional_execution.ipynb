{
  "nbformat": 4,
  "nbformat_minor": 0,
  "metadata": {
    "colab": {
      "name": "ch3_conditional_execution.ipynb",
      "provenance": [],
      "collapsed_sections": []
    },
    "kernelspec": {
      "name": "python3",
      "display_name": "Python 3"
    }
  },
  "cells": [
    {
      "cell_type": "markdown",
      "metadata": {
        "id": "-j-3fhT_1K0w"
      },
      "source": [
        "# Chapter 3 Conditional Execution "
      ]
    },
    {
      "cell_type": "code",
      "metadata": {
        "id": "1pUtcEhP2wkV",
        "outputId": "ae7862d1-9b6f-4f0d-9f9c-7a07ed99bf0f",
        "colab": {
          "base_uri": "https://localhost:8080/",
          "height": 34
        }
      },
      "source": [
        "x = 10 # assignment \n",
        "x"
      ],
      "execution_count": 1,
      "outputs": [
        {
          "output_type": "execute_result",
          "data": {
            "text/plain": [
              "10"
            ]
          },
          "metadata": {
            "tags": []
          },
          "execution_count": 1
        }
      ]
    },
    {
      "cell_type": "code",
      "metadata": {
        "id": "8k8UaPs-20TS",
        "outputId": "62d970d4-dab8-4672-8799-9cb02eb8b753",
        "colab": {
          "base_uri": "https://localhost:8080/",
          "height": 34
        }
      },
      "source": [
        "x == 10 # does x equal to 10? True/False "
      ],
      "execution_count": 2,
      "outputs": [
        {
          "output_type": "execute_result",
          "data": {
            "text/plain": [
              "True"
            ]
          },
          "metadata": {
            "tags": []
          },
          "execution_count": 2
        }
      ]
    },
    {
      "cell_type": "markdown",
      "metadata": {
        "id": "zaGEuE8R1fGx"
      },
      "source": [
        "# one-way decision "
      ]
    },
    {
      "cell_type": "code",
      "metadata": {
        "id": "BI7ZiFxC1C-D",
        "outputId": "e0fdf464-dd54-4cad-99be-61bb6aff63d4",
        "colab": {
          "base_uri": "https://localhost:8080/",
          "height": 84
        }
      },
      "source": [
        "x = 20 # sequentional \n",
        "print(x) # sequentional \n",
        "if x > 10: # sequentional (condition)\n",
        "  print('x is big') # conditional\n",
        "  print('the value of x is', x) # conditional\n",
        "print('done') # sequentional \n",
        "# executed lines: 1, 2, 3, 4, 5, 6 "
      ],
      "execution_count": 3,
      "outputs": [
        {
          "output_type": "stream",
          "text": [
            "20\n",
            "x is big\n",
            "the value of x is 20\n",
            "done\n"
          ],
          "name": "stdout"
        }
      ]
    },
    {
      "cell_type": "code",
      "metadata": {
        "id": "KDV1WDhe3m16",
        "outputId": "7f966f71-d510-4e12-cdc8-98e31bd3e408",
        "colab": {
          "base_uri": "https://localhost:8080/",
          "height": 51
        }
      },
      "source": [
        "x = 5 # sequentional \n",
        "print(x) # sequentional \n",
        "if x > 10: # sequentional (condition)\n",
        "  print('x is big') # conditional\n",
        "  print('the value of x is', x) # conditional\n",
        "print('done') # sequentional \n",
        "# executed lines: 1, 2, 3, 6 "
      ],
      "execution_count": 4,
      "outputs": [
        {
          "output_type": "stream",
          "text": [
            "5\n",
            "done\n"
          ],
          "name": "stdout"
        }
      ]
    },
    {
      "cell_type": "code",
      "metadata": {
        "id": "RJqojkmW35-q",
        "outputId": "bf43758a-410c-467f-af46-69f39272a9aa",
        "colab": {
          "base_uri": "https://localhost:8080/",
          "height": 69
        }
      },
      "source": [
        "# one-way \n",
        "\n",
        "x = 5 # sequentional \n",
        "print(x) # sequentional \n",
        "if x > 10: # sequentional (condition)\n",
        "  print('x is big') # conditional\n",
        "  print('the value of x is', x) # conditional\n",
        "if x > 3:\n",
        "  print('x is larger than 3')\n",
        "print('done') # sequentional \n",
        "# executed lines: 1, 2, 3, 6, 7, 8 "
      ],
      "execution_count": 5,
      "outputs": [
        {
          "output_type": "stream",
          "text": [
            "5\n",
            "x is larger than 3\n",
            "done\n"
          ],
          "name": "stdout"
        }
      ]
    },
    {
      "cell_type": "code",
      "metadata": {
        "id": "GZbpLu6V4VGS",
        "outputId": "9e892c98-ed5a-44c9-cf03-43024fb34665",
        "colab": {
          "base_uri": "https://localhost:8080/",
          "height": 104
        }
      },
      "source": [
        "# one-way nested \n",
        "x = 30 # sequentional \n",
        "print(x) # sequentional \n",
        "if x > 10: # sequentional (condition)\n",
        "  print('x is big') # conditional\n",
        "  print('the value of x is', x) # conditional\n",
        "  if x > 20:\n",
        "    print('x is larger than 20')\n",
        "print('done') # sequentional \n",
        "# executed lines: 2-10"
      ],
      "execution_count": 6,
      "outputs": [
        {
          "output_type": "stream",
          "text": [
            "30\n",
            "x is big\n",
            "the value of x is 30\n",
            "x is larger than 20\n",
            "done\n"
          ],
          "name": "stdout"
        }
      ]
    },
    {
      "cell_type": "code",
      "metadata": {
        "id": "DQJm8KHL4tRU",
        "outputId": "0e3c651b-6820-45d7-ce04-f4c8b6bd15bf",
        "colab": {
          "base_uri": "https://localhost:8080/",
          "height": 51
        }
      },
      "source": [
        "# one-way nested \n",
        "x = 7 # sequentional \n",
        "print(x) # sequentional \n",
        "if x > 10: # sequentional (condition)\n",
        "  print('x is big') # conditional\n",
        "  print('the value of x is', x) # conditional\n",
        "  if x > 20:\n",
        "    print('x is larger than 20')\n",
        "print('done') # sequentional \n",
        "# executed lines: 2-4, 9 "
      ],
      "execution_count": 7,
      "outputs": [
        {
          "output_type": "stream",
          "text": [
            "7\n",
            "done\n"
          ],
          "name": "stdout"
        }
      ]
    },
    {
      "cell_type": "code",
      "metadata": {
        "id": "3AaC7aGz5Iw8",
        "outputId": "2a43b373-9221-4224-f0f3-8af3d6ab9be7",
        "colab": {
          "base_uri": "https://localhost:8080/",
          "height": 86
        }
      },
      "source": [
        "# one-way nested \n",
        "x = 11 # sequentional \n",
        "print(x) # sequentional \n",
        "if x > 10: # sequentional (condition)\n",
        "  print('x is big') # conditional\n",
        "  print('the value of x is', x) # conditional\n",
        "  if x > 20:\n",
        "    print('x is larger than 20')\n",
        "print('done') # sequentional \n",
        "# executed lines: 2-7, 9 "
      ],
      "execution_count": 8,
      "outputs": [
        {
          "output_type": "stream",
          "text": [
            "11\n",
            "x is big\n",
            "the value of x is 11\n",
            "done\n"
          ],
          "name": "stdout"
        }
      ]
    },
    {
      "cell_type": "code",
      "metadata": {
        "id": "hvdckSFN5gPb",
        "outputId": "492e4b2f-5832-409c-9e98-d81f7791f21f",
        "colab": {
          "base_uri": "https://localhost:8080/",
          "height": 86
        }
      },
      "source": [
        "# one-way nested \n",
        "x = 20 # sequentional \n",
        "print(x) # sequentional \n",
        "if x > 10: # sequentional (condition)\n",
        "  print('x is big') # conditional\n",
        "  print('the value of x is', x) # conditional\n",
        "  if x > 20:\n",
        "    print('x is larger than 20')\n",
        "print('done') # sequentional \n",
        "# executed lines: 2-7, 9 "
      ],
      "execution_count": 9,
      "outputs": [
        {
          "output_type": "stream",
          "text": [
            "20\n",
            "x is big\n",
            "the value of x is 20\n",
            "done\n"
          ],
          "name": "stdout"
        }
      ]
    },
    {
      "cell_type": "markdown",
      "metadata": {
        "id": "zvpjMB835vdU"
      },
      "source": [
        "# two-way decision "
      ]
    },
    {
      "cell_type": "code",
      "metadata": {
        "id": "ahrOtX3r5xjz"
      },
      "source": [
        ""
      ],
      "execution_count": null,
      "outputs": []
    }
  ]
}