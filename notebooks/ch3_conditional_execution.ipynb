{
  "nbformat": 4,
  "nbformat_minor": 0,
  "metadata": {
    "colab": {
      "name": "ch3_conditional_execution.ipynb",
      "provenance": [],
      "collapsed_sections": []
    },
    "kernelspec": {
      "name": "python3",
      "display_name": "Python 3"
    }
  },
  "cells": [
    {
      "cell_type": "markdown",
      "metadata": {
        "id": "-j-3fhT_1K0w"
      },
      "source": [
        "# Chapter 3 Conditional Execution "
      ]
    },
    {
      "cell_type": "code",
      "metadata": {
        "id": "1pUtcEhP2wkV",
        "outputId": "ae7862d1-9b6f-4f0d-9f9c-7a07ed99bf0f",
        "colab": {
          "base_uri": "https://localhost:8080/",
          "height": 34
        }
      },
      "source": [
        "x = 10 # assignment \n",
        "x"
      ],
      "execution_count": 1,
      "outputs": [
        {
          "output_type": "execute_result",
          "data": {
            "text/plain": [
              "10"
            ]
          },
          "metadata": {
            "tags": []
          },
          "execution_count": 1
        }
      ]
    },
    {
      "cell_type": "code",
      "metadata": {
        "id": "8k8UaPs-20TS",
        "outputId": "62d970d4-dab8-4672-8799-9cb02eb8b753",
        "colab": {
          "base_uri": "https://localhost:8080/",
          "height": 34
        }
      },
      "source": [
        "x == 10 # does x equal to 10? True/False "
      ],
      "execution_count": 2,
      "outputs": [
        {
          "output_type": "execute_result",
          "data": {
            "text/plain": [
              "True"
            ]
          },
          "metadata": {
            "tags": []
          },
          "execution_count": 2
        }
      ]
    },
    {
      "cell_type": "markdown",
      "metadata": {
        "id": "zaGEuE8R1fGx"
      },
      "source": [
        "# one-way decision "
      ]
    },
    {
      "cell_type": "code",
      "metadata": {
        "id": "BI7ZiFxC1C-D",
        "outputId": "e0fdf464-dd54-4cad-99be-61bb6aff63d4",
        "colab": {
          "base_uri": "https://localhost:8080/",
          "height": 87
        }
      },
      "source": [
        "x = 20 # sequentional \n",
        "print(x) # sequentional \n",
        "if x > 10: # sequentional (condition)\n",
        "  print('x is big') # conditional\n",
        "  print('the value of x is', x) # conditional\n",
        "print('done') # sequentional \n",
        "# executed lines: 1, 2, 3, 4, 5, 6 "
      ],
      "execution_count": 3,
      "outputs": [
        {
          "output_type": "stream",
          "text": [
            "20\n",
            "x is big\n",
            "the value of x is 20\n",
            "done\n"
          ],
          "name": "stdout"
        }
      ]
    },
    {
      "cell_type": "code",
      "metadata": {
        "id": "KDV1WDhe3m16",
        "outputId": "7f966f71-d510-4e12-cdc8-98e31bd3e408",
        "colab": {
          "base_uri": "https://localhost:8080/",
          "height": 52
        }
      },
      "source": [
        "x = 5 # sequentional \n",
        "print(x) # sequentional \n",
        "if x > 10: # sequentional (condition)\n",
        "  print('x is big') # conditional\n",
        "  print('the value of x is', x) # conditional\n",
        "print('done') # sequentional \n",
        "# executed lines: 1, 2, 3, 6 "
      ],
      "execution_count": 4,
      "outputs": [
        {
          "output_type": "stream",
          "text": [
            "5\n",
            "done\n"
          ],
          "name": "stdout"
        }
      ]
    },
    {
      "cell_type": "code",
      "metadata": {
        "id": "RJqojkmW35-q",
        "outputId": "bf43758a-410c-467f-af46-69f39272a9aa",
        "colab": {
          "base_uri": "https://localhost:8080/",
          "height": 70
        }
      },
      "source": [
        "# one-way \n",
        "\n",
        "x = 5 # sequentional \n",
        "print(x) # sequentional \n",
        "if x > 10: # sequentional (condition)\n",
        "  print('x is big') # conditional\n",
        "  print('the value of x is', x) # conditional\n",
        "if x > 3:\n",
        "  print('x is larger than 3')\n",
        "print('done') # sequentional \n",
        "# executed lines: 1, 2, 3, 6, 7, 8 "
      ],
      "execution_count": 5,
      "outputs": [
        {
          "output_type": "stream",
          "text": [
            "5\n",
            "x is larger than 3\n",
            "done\n"
          ],
          "name": "stdout"
        }
      ]
    },
    {
      "cell_type": "code",
      "metadata": {
        "id": "GZbpLu6V4VGS",
        "outputId": "9e892c98-ed5a-44c9-cf03-43024fb34665",
        "colab": {
          "base_uri": "https://localhost:8080/",
          "height": 105
        }
      },
      "source": [
        "# one-way nested \n",
        "x = 30 # sequentional \n",
        "print(x) # sequentional \n",
        "if x > 10: # sequentional (condition)\n",
        "  print('x is big') # conditional\n",
        "  print('the value of x is', x) # conditional\n",
        "  if x > 20:\n",
        "    print('x is larger than 20')\n",
        "print('done') # sequentional \n",
        "# executed lines: 2-10"
      ],
      "execution_count": 6,
      "outputs": [
        {
          "output_type": "stream",
          "text": [
            "30\n",
            "x is big\n",
            "the value of x is 30\n",
            "x is larger than 20\n",
            "done\n"
          ],
          "name": "stdout"
        }
      ]
    },
    {
      "cell_type": "code",
      "metadata": {
        "id": "DQJm8KHL4tRU",
        "outputId": "0e3c651b-6820-45d7-ce04-f4c8b6bd15bf",
        "colab": {
          "base_uri": "https://localhost:8080/",
          "height": 52
        }
      },
      "source": [
        "# one-way nested \n",
        "x = 7 # sequentional \n",
        "print(x) # sequentional \n",
        "if x > 10: # sequentional (condition)\n",
        "  print('x is big') # conditional\n",
        "  print('the value of x is', x) # conditional\n",
        "  if x > 20:\n",
        "    print('x is larger than 20')\n",
        "print('done') # sequentional \n",
        "# executed lines: 2-4, 9 "
      ],
      "execution_count": 7,
      "outputs": [
        {
          "output_type": "stream",
          "text": [
            "7\n",
            "done\n"
          ],
          "name": "stdout"
        }
      ]
    },
    {
      "cell_type": "code",
      "metadata": {
        "id": "3AaC7aGz5Iw8",
        "outputId": "2a43b373-9221-4224-f0f3-8af3d6ab9be7",
        "colab": {
          "base_uri": "https://localhost:8080/",
          "height": 87
        }
      },
      "source": [
        "# one-way nested \n",
        "x = 11 # sequentional \n",
        "print(x) # sequentional \n",
        "if x > 10: # sequentional (condition)\n",
        "  print('x is big') # conditional\n",
        "  print('the value of x is', x) # conditional\n",
        "  if x > 20:\n",
        "    print('x is larger than 20')\n",
        "print('done') # sequentional \n",
        "# executed lines: 2-7, 9 "
      ],
      "execution_count": 8,
      "outputs": [
        {
          "output_type": "stream",
          "text": [
            "11\n",
            "x is big\n",
            "the value of x is 11\n",
            "done\n"
          ],
          "name": "stdout"
        }
      ]
    },
    {
      "cell_type": "code",
      "metadata": {
        "id": "hvdckSFN5gPb",
        "outputId": "492e4b2f-5832-409c-9e98-d81f7791f21f",
        "colab": {
          "base_uri": "https://localhost:8080/",
          "height": 87
        }
      },
      "source": [
        "# one-way nested \n",
        "x = 20 # sequentional \n",
        "print(x) # sequentional \n",
        "if x > 10: # sequentional (condition)\n",
        "  print('x is big') # conditional\n",
        "  print('the value of x is', x) # conditional\n",
        "  if x > 20:\n",
        "    print('x is larger than 20')\n",
        "print('done') # sequentional \n",
        "# executed lines: 2-7, 9 "
      ],
      "execution_count": 9,
      "outputs": [
        {
          "output_type": "stream",
          "text": [
            "20\n",
            "x is big\n",
            "the value of x is 20\n",
            "done\n"
          ],
          "name": "stdout"
        }
      ]
    },
    {
      "cell_type": "markdown",
      "metadata": {
        "id": "zvpjMB835vdU"
      },
      "source": [
        "# two-way decision "
      ]
    },
    {
      "cell_type": "code",
      "metadata": {
        "id": "ahrOtX3r5xjz",
        "outputId": "75feb926-60bf-466e-abc2-4cf9c5b91d1e",
        "colab": {
          "base_uri": "https://localhost:8080/",
          "height": 70
        }
      },
      "source": [
        "x = 10 \n",
        "print('x =', x)\n",
        "if x > 5:\n",
        "  print('x is large') \n",
        "else: # x <= 5 \n",
        "  print('x is small')\n",
        "print('done')"
      ],
      "execution_count": 10,
      "outputs": [
        {
          "output_type": "stream",
          "text": [
            "x = 10\n",
            "x is large\n",
            "done\n"
          ],
          "name": "stdout"
        }
      ]
    },
    {
      "cell_type": "code",
      "metadata": {
        "id": "dSPJ6zyD95O4",
        "outputId": "cc4cf550-75cb-4a61-d00d-eb729a2185d4",
        "colab": {
          "base_uri": "https://localhost:8080/",
          "height": 70
        }
      },
      "source": [
        "x = 3 \n",
        "print('x =', x)\n",
        "if x > 5:\n",
        "  print('x is large') \n",
        "else: # x <= 5 \n",
        "  print('x is small')\n",
        "print('done')"
      ],
      "execution_count": 11,
      "outputs": [
        {
          "output_type": "stream",
          "text": [
            "x = 3\n",
            "x is small\n",
            "done\n"
          ],
          "name": "stdout"
        }
      ]
    },
    {
      "cell_type": "markdown",
      "metadata": {
        "id": "31wZ2CqM-JJu"
      },
      "source": [
        "# if - else if "
      ]
    },
    {
      "cell_type": "code",
      "metadata": {
        "id": "mj1UspPL-Nzd",
        "outputId": "10b0d92e-2fc6-49aa-d22a-99d1aafecabf",
        "colab": {
          "base_uri": "https://localhost:8080/",
          "height": 70
        }
      },
      "source": [
        "x = 3 \n",
        "print('x =', x)\n",
        "if x > 5:\n",
        "  print('x is large') \n",
        "else: # x <= 5 \n",
        "  if x < 2:\n",
        "    print('x is too small')\n",
        "  else: # x >= 2 and x <=5 ; in other words between 2-5\n",
        "    print('x is small')\n",
        "print('done')"
      ],
      "execution_count": 12,
      "outputs": [
        {
          "output_type": "stream",
          "text": [
            "x = 3\n",
            "x is small\n",
            "done\n"
          ],
          "name": "stdout"
        }
      ]
    },
    {
      "cell_type": "code",
      "metadata": {
        "id": "WM769szx-sUM",
        "outputId": "78f911f9-913c-4760-f00e-f0b69d9eb8d2",
        "colab": {
          "base_uri": "https://localhost:8080/",
          "height": 70
        }
      },
      "source": [
        "x = 1 \n",
        "print('x =', x)\n",
        "if x > 5:\n",
        "  print('x is large') \n",
        "else: # x <= 5 \n",
        "  if x < 2:\n",
        "    print('x is too small')\n",
        "  else: # x >= 2 and x <=5 ; in other words between 2-5\n",
        "    print('x is small')\n",
        "print('done')"
      ],
      "execution_count": 13,
      "outputs": [
        {
          "output_type": "stream",
          "text": [
            "x = 1\n",
            "x is too small\n",
            "done\n"
          ],
          "name": "stdout"
        }
      ]
    },
    {
      "cell_type": "code",
      "metadata": {
        "id": "FJ7VoWjb-2NC",
        "outputId": "c6794b80-0c9a-4d54-cde1-e37b192de574",
        "colab": {
          "base_uri": "https://localhost:8080/",
          "height": 70
        }
      },
      "source": [
        "x = 1 \n",
        "print('x =', x)\n",
        "if x > 5:\n",
        "  print('x is large') \n",
        "elif x < 2: # x <= 5 \n",
        "  print('x is too small')\n",
        "else: # x >= 2 and x <=5 ; in other words between 2-5\n",
        "  print('x is small')\n",
        "print('done')"
      ],
      "execution_count": 14,
      "outputs": [
        {
          "output_type": "stream",
          "text": [
            "x = 1\n",
            "x is too small\n",
            "done\n"
          ],
          "name": "stdout"
        }
      ]
    },
    {
      "cell_type": "code",
      "metadata": {
        "id": "fYlvbwwf_ERx",
        "outputId": "0ea1a2d9-c285-4344-f91c-5cbc93105ffc",
        "colab": {
          "base_uri": "https://localhost:8080/",
          "height": 70
        }
      },
      "source": [
        "x = 3 \n",
        "print('x =', x)\n",
        "if x > 5:\n",
        "  print('x is large') \n",
        "elif x < 2: # x <= 5 \n",
        "  print('x is too small')\n",
        "else: # x >= 2 and x <=5 ; in other words between 2-5\n",
        "  print('x is small')\n",
        "print('done')"
      ],
      "execution_count": 15,
      "outputs": [
        {
          "output_type": "stream",
          "text": [
            "x = 3\n",
            "x is small\n",
            "done\n"
          ],
          "name": "stdout"
        }
      ]
    },
    {
      "cell_type": "markdown",
      "metadata": {
        "id": "F3Buvuuh_Lh4"
      },
      "source": [
        "# multi-way decision "
      ]
    },
    {
      "cell_type": "code",
      "metadata": {
        "id": "Hs4itat9_N9v",
        "outputId": "44e14c27-0e70-4e2f-8a46-f5ad383f4574",
        "colab": {
          "base_uri": "https://localhost:8080/",
          "height": 34
        }
      },
      "source": [
        "x = 7\n",
        "if x < 2:\n",
        "  print('small')\n",
        "elif x < 6: # x >=2 \n",
        "  print('meduim')\n",
        "else: # x >= 6 \n",
        "  print('large')"
      ],
      "execution_count": 16,
      "outputs": [
        {
          "output_type": "stream",
          "text": [
            "large\n"
          ],
          "name": "stdout"
        }
      ]
    },
    {
      "cell_type": "code",
      "metadata": {
        "id": "EWBdX1c3_7w0",
        "outputId": "a45c5a85-8e96-4a87-a03f-22cabb5c58d4",
        "colab": {
          "base_uri": "https://localhost:8080/",
          "height": 52
        }
      },
      "source": [
        "x = int(input('enter x: '))\n",
        "if x < 2 :\n",
        "    print('tiny')\n",
        "elif x < 10 :\n",
        "    print('small')\n",
        "elif x < 20 : \n",
        "    print('Big')\n",
        "elif x < 40 : \n",
        "    print('so big')\n",
        "elif x < 100:\n",
        "    print('Huge')\n",
        "else :\n",
        "    print('so huge')"
      ],
      "execution_count": 19,
      "outputs": [
        {
          "output_type": "stream",
          "text": [
            "enter x: 1\n",
            "tiny\n"
          ],
          "name": "stdout"
        }
      ]
    },
    {
      "cell_type": "markdown",
      "metadata": {
        "id": "YsJ7s7HcAlRG"
      },
      "source": [
        "# Grade scale assignment \n",
        "* satisfactory 1-1.66\n",
        "* good 1.67-2.66\n",
        "* v.good 2.67-3.49\n",
        "* Excellent 3.5-4.0"
      ]
    },
    {
      "cell_type": "markdown",
      "metadata": {
        "id": "tp1QK2GFCNi-"
      },
      "source": [
        "# Try-except in python "
      ]
    },
    {
      "cell_type": "code",
      "metadata": {
        "id": "TppV100FB7bi",
        "outputId": "2bc886c6-a075-440d-9ecc-e6d8da68729e",
        "colab": {
          "base_uri": "https://localhost:8080/",
          "height": 122
        }
      },
      "source": [
        "number1 = int(input('enter 1st number: '))\n",
        "number2 = int(input('enter 2nd number: '))\n",
        "print(number1 + number2) # addition \n",
        "print(number1 - number2) \n",
        "print(number1 * number2)\n",
        "print(number1 / number2)"
      ],
      "execution_count": 20,
      "outputs": [
        {
          "output_type": "stream",
          "text": [
            "enter 1st number: 3\n",
            "enter 2nd number: 4\n",
            "7\n",
            "-1\n",
            "12\n",
            "0.75\n"
          ],
          "name": "stdout"
        }
      ]
    },
    {
      "cell_type": "code",
      "metadata": {
        "id": "Hkgv15eFCjGR",
        "outputId": "e544aefc-9a02-4877-905d-9a4c526bfb01",
        "colab": {
          "base_uri": "https://localhost:8080/",
          "height": 255
        }
      },
      "source": [
        "number1 = int(input('enter 1st number: '))\n",
        "number2 = int(input('enter 2nd number: '))\n",
        "print(number1 + number2) # addition \n",
        "print(number1 - number2) \n",
        "print(number1 * number2)\n",
        "print(number1 / number2)"
      ],
      "execution_count": 21,
      "outputs": [
        {
          "output_type": "stream",
          "text": [
            "enter 1st number: four\n"
          ],
          "name": "stdout"
        },
        {
          "output_type": "error",
          "ename": "ValueError",
          "evalue": "ignored",
          "traceback": [
            "\u001b[0;31m---------------------------------------------------------------------------\u001b[0m",
            "\u001b[0;31mValueError\u001b[0m                                Traceback (most recent call last)",
            "\u001b[0;32m<ipython-input-21-37b44ffdca0b>\u001b[0m in \u001b[0;36m<module>\u001b[0;34m()\u001b[0m\n\u001b[0;32m----> 1\u001b[0;31m \u001b[0mnumber1\u001b[0m \u001b[0;34m=\u001b[0m \u001b[0mint\u001b[0m\u001b[0;34m(\u001b[0m\u001b[0minput\u001b[0m\u001b[0;34m(\u001b[0m\u001b[0;34m'enter 1st number: '\u001b[0m\u001b[0;34m)\u001b[0m\u001b[0;34m)\u001b[0m\u001b[0;34m\u001b[0m\u001b[0;34m\u001b[0m\u001b[0m\n\u001b[0m\u001b[1;32m      2\u001b[0m \u001b[0mnumber2\u001b[0m \u001b[0;34m=\u001b[0m \u001b[0mint\u001b[0m\u001b[0;34m(\u001b[0m\u001b[0minput\u001b[0m\u001b[0;34m(\u001b[0m\u001b[0;34m'enter 2nd number: '\u001b[0m\u001b[0;34m)\u001b[0m\u001b[0;34m)\u001b[0m\u001b[0;34m\u001b[0m\u001b[0;34m\u001b[0m\u001b[0m\n\u001b[1;32m      3\u001b[0m \u001b[0mprint\u001b[0m\u001b[0;34m(\u001b[0m\u001b[0mnumber1\u001b[0m \u001b[0;34m+\u001b[0m \u001b[0mnumber2\u001b[0m\u001b[0;34m)\u001b[0m \u001b[0;31m# addition\u001b[0m\u001b[0;34m\u001b[0m\u001b[0;34m\u001b[0m\u001b[0m\n\u001b[1;32m      4\u001b[0m \u001b[0mprint\u001b[0m\u001b[0;34m(\u001b[0m\u001b[0mnumber1\u001b[0m \u001b[0;34m-\u001b[0m \u001b[0mnumber2\u001b[0m\u001b[0;34m)\u001b[0m\u001b[0;34m\u001b[0m\u001b[0;34m\u001b[0m\u001b[0m\n\u001b[1;32m      5\u001b[0m \u001b[0mprint\u001b[0m\u001b[0;34m(\u001b[0m\u001b[0mnumber1\u001b[0m \u001b[0;34m*\u001b[0m \u001b[0mnumber2\u001b[0m\u001b[0;34m)\u001b[0m\u001b[0;34m\u001b[0m\u001b[0;34m\u001b[0m\u001b[0m\n",
            "\u001b[0;31mValueError\u001b[0m: invalid literal for int() with base 10: 'four'"
          ]
        }
      ]
    },
    {
      "cell_type": "code",
      "metadata": {
        "id": "Trz3P2_8Cy4u",
        "outputId": "72dd4eef-b827-4444-ed66-5f7fb7ff26e9",
        "colab": {
          "base_uri": "https://localhost:8080/",
          "height": 255
        }
      },
      "source": [
        "number1 = int(input('enter 1st number: '))\n",
        "number2 = int(input('enter 2nd number: '))\n",
        "print(number1 + number2) # addition \n",
        "print(number1 - number2) \n",
        "print(number1 * number2)\n",
        "print(number1 / number2)"
      ],
      "execution_count": 22,
      "outputs": [
        {
          "output_type": "stream",
          "text": [
            "enter 1st number: aaaaaaaaaaaaaaaaaaaaaaaaaaaaaaaaaaa\n"
          ],
          "name": "stdout"
        },
        {
          "output_type": "error",
          "ename": "ValueError",
          "evalue": "ignored",
          "traceback": [
            "\u001b[0;31m---------------------------------------------------------------------------\u001b[0m",
            "\u001b[0;31mValueError\u001b[0m                                Traceback (most recent call last)",
            "\u001b[0;32m<ipython-input-22-37b44ffdca0b>\u001b[0m in \u001b[0;36m<module>\u001b[0;34m()\u001b[0m\n\u001b[0;32m----> 1\u001b[0;31m \u001b[0mnumber1\u001b[0m \u001b[0;34m=\u001b[0m \u001b[0mint\u001b[0m\u001b[0;34m(\u001b[0m\u001b[0minput\u001b[0m\u001b[0;34m(\u001b[0m\u001b[0;34m'enter 1st number: '\u001b[0m\u001b[0;34m)\u001b[0m\u001b[0;34m)\u001b[0m\u001b[0;34m\u001b[0m\u001b[0;34m\u001b[0m\u001b[0m\n\u001b[0m\u001b[1;32m      2\u001b[0m \u001b[0mnumber2\u001b[0m \u001b[0;34m=\u001b[0m \u001b[0mint\u001b[0m\u001b[0;34m(\u001b[0m\u001b[0minput\u001b[0m\u001b[0;34m(\u001b[0m\u001b[0;34m'enter 2nd number: '\u001b[0m\u001b[0;34m)\u001b[0m\u001b[0;34m)\u001b[0m\u001b[0;34m\u001b[0m\u001b[0;34m\u001b[0m\u001b[0m\n\u001b[1;32m      3\u001b[0m \u001b[0mprint\u001b[0m\u001b[0;34m(\u001b[0m\u001b[0mnumber1\u001b[0m \u001b[0;34m+\u001b[0m \u001b[0mnumber2\u001b[0m\u001b[0;34m)\u001b[0m \u001b[0;31m# addition\u001b[0m\u001b[0;34m\u001b[0m\u001b[0;34m\u001b[0m\u001b[0m\n\u001b[1;32m      4\u001b[0m \u001b[0mprint\u001b[0m\u001b[0;34m(\u001b[0m\u001b[0mnumber1\u001b[0m \u001b[0;34m-\u001b[0m \u001b[0mnumber2\u001b[0m\u001b[0;34m)\u001b[0m\u001b[0;34m\u001b[0m\u001b[0;34m\u001b[0m\u001b[0m\n\u001b[1;32m      5\u001b[0m \u001b[0mprint\u001b[0m\u001b[0;34m(\u001b[0m\u001b[0mnumber1\u001b[0m \u001b[0;34m*\u001b[0m \u001b[0mnumber2\u001b[0m\u001b[0;34m)\u001b[0m\u001b[0;34m\u001b[0m\u001b[0;34m\u001b[0m\u001b[0m\n",
            "\u001b[0;31mValueError\u001b[0m: invalid literal for int() with base 10: 'aaaaaaaaaaaaaaaaaaaaaaaaaaaaaaaaaaa'"
          ]
        }
      ]
    },
    {
      "cell_type": "code",
      "metadata": {
        "id": "oLes8-4VC46D",
        "outputId": "936f6ad4-e764-462e-c728-ea6bd5df6a67",
        "colab": {
          "base_uri": "https://localhost:8080/",
          "height": 273
        }
      },
      "source": [
        "number1 = int(input('enter 1st number: '))\n",
        "number2 = int(input('enter 2nd number: '))\n",
        "print(number1 + number2) # addition \n",
        "print(number1 - number2) \n",
        "print(number1 * number2)\n",
        "print(number1 / number2)"
      ],
      "execution_count": 23,
      "outputs": [
        {
          "output_type": "stream",
          "text": [
            "enter 1st number: 4\n",
            "enter 2nd number: 10'\n"
          ],
          "name": "stdout"
        },
        {
          "output_type": "error",
          "ename": "ValueError",
          "evalue": "ignored",
          "traceback": [
            "\u001b[0;31m---------------------------------------------------------------------------\u001b[0m",
            "\u001b[0;31mValueError\u001b[0m                                Traceback (most recent call last)",
            "\u001b[0;32m<ipython-input-23-37b44ffdca0b>\u001b[0m in \u001b[0;36m<module>\u001b[0;34m()\u001b[0m\n\u001b[1;32m      1\u001b[0m \u001b[0mnumber1\u001b[0m \u001b[0;34m=\u001b[0m \u001b[0mint\u001b[0m\u001b[0;34m(\u001b[0m\u001b[0minput\u001b[0m\u001b[0;34m(\u001b[0m\u001b[0;34m'enter 1st number: '\u001b[0m\u001b[0;34m)\u001b[0m\u001b[0;34m)\u001b[0m\u001b[0;34m\u001b[0m\u001b[0;34m\u001b[0m\u001b[0m\n\u001b[0;32m----> 2\u001b[0;31m \u001b[0mnumber2\u001b[0m \u001b[0;34m=\u001b[0m \u001b[0mint\u001b[0m\u001b[0;34m(\u001b[0m\u001b[0minput\u001b[0m\u001b[0;34m(\u001b[0m\u001b[0;34m'enter 2nd number: '\u001b[0m\u001b[0;34m)\u001b[0m\u001b[0;34m)\u001b[0m\u001b[0;34m\u001b[0m\u001b[0;34m\u001b[0m\u001b[0m\n\u001b[0m\u001b[1;32m      3\u001b[0m \u001b[0mprint\u001b[0m\u001b[0;34m(\u001b[0m\u001b[0mnumber1\u001b[0m \u001b[0;34m+\u001b[0m \u001b[0mnumber2\u001b[0m\u001b[0;34m)\u001b[0m \u001b[0;31m# addition\u001b[0m\u001b[0;34m\u001b[0m\u001b[0;34m\u001b[0m\u001b[0m\n\u001b[1;32m      4\u001b[0m \u001b[0mprint\u001b[0m\u001b[0;34m(\u001b[0m\u001b[0mnumber1\u001b[0m \u001b[0;34m-\u001b[0m \u001b[0mnumber2\u001b[0m\u001b[0;34m)\u001b[0m\u001b[0;34m\u001b[0m\u001b[0;34m\u001b[0m\u001b[0m\n\u001b[1;32m      5\u001b[0m \u001b[0mprint\u001b[0m\u001b[0;34m(\u001b[0m\u001b[0mnumber1\u001b[0m \u001b[0;34m*\u001b[0m \u001b[0mnumber2\u001b[0m\u001b[0;34m)\u001b[0m\u001b[0;34m\u001b[0m\u001b[0;34m\u001b[0m\u001b[0m\n",
            "\u001b[0;31mValueError\u001b[0m: invalid literal for int() with base 10: \"10'\""
          ]
        }
      ]
    },
    {
      "cell_type": "code",
      "metadata": {
        "id": "YXvfnWNdDBex",
        "outputId": "c3138b7b-5d7e-4cc2-9877-72981ceddf8d",
        "colab": {
          "base_uri": "https://localhost:8080/",
          "height": 290
        }
      },
      "source": [
        "number1 = int(input('enter 1st number: '))\n",
        "number2 = int(input('enter 2nd number: '))\n",
        "print(number1 + number2) # addition \n",
        "print(number1 - number2) \n",
        "print(number1 * number2)\n",
        "print(number1 / number2)"
      ],
      "execution_count": 24,
      "outputs": [
        {
          "output_type": "stream",
          "text": [
            "enter 1st number: 5\n",
            "enter 2nd number: 0\n",
            "5\n",
            "5\n",
            "0\n"
          ],
          "name": "stdout"
        },
        {
          "output_type": "error",
          "ename": "ZeroDivisionError",
          "evalue": "ignored",
          "traceback": [
            "\u001b[0;31m---------------------------------------------------------------------------\u001b[0m",
            "\u001b[0;31mZeroDivisionError\u001b[0m                         Traceback (most recent call last)",
            "\u001b[0;32m<ipython-input-24-37b44ffdca0b>\u001b[0m in \u001b[0;36m<module>\u001b[0;34m()\u001b[0m\n\u001b[1;32m      4\u001b[0m \u001b[0mprint\u001b[0m\u001b[0;34m(\u001b[0m\u001b[0mnumber1\u001b[0m \u001b[0;34m-\u001b[0m \u001b[0mnumber2\u001b[0m\u001b[0;34m)\u001b[0m\u001b[0;34m\u001b[0m\u001b[0;34m\u001b[0m\u001b[0m\n\u001b[1;32m      5\u001b[0m \u001b[0mprint\u001b[0m\u001b[0;34m(\u001b[0m\u001b[0mnumber1\u001b[0m \u001b[0;34m*\u001b[0m \u001b[0mnumber2\u001b[0m\u001b[0;34m)\u001b[0m\u001b[0;34m\u001b[0m\u001b[0;34m\u001b[0m\u001b[0m\n\u001b[0;32m----> 6\u001b[0;31m \u001b[0mprint\u001b[0m\u001b[0;34m(\u001b[0m\u001b[0mnumber1\u001b[0m \u001b[0;34m/\u001b[0m \u001b[0mnumber2\u001b[0m\u001b[0;34m)\u001b[0m\u001b[0;34m\u001b[0m\u001b[0;34m\u001b[0m\u001b[0m\n\u001b[0m",
            "\u001b[0;31mZeroDivisionError\u001b[0m: division by zero"
          ]
        }
      ]
    },
    {
      "cell_type": "markdown",
      "metadata": {
        "id": "w4Wcfj5LDP3i"
      },
      "source": [
        "# Handle Exception in Python "
      ]
    },
    {
      "cell_type": "code",
      "metadata": {
        "id": "mpejexBjDOn9",
        "outputId": "db1fc769-7040-4432-d8bf-6ddff3700917",
        "colab": {
          "base_uri": "https://localhost:8080/",
          "height": 52
        }
      },
      "source": [
        "try:\n",
        "  number1 = int(input('enter 1st number: '))\n",
        "  number2 = int(input('enter 2nd number: '))\n",
        "  print(number1 + number2) # addition \n",
        "  print(number1 - number2) \n",
        "  print(number1 * number2)\n",
        "  print(number1 / number2)\n",
        "except ValueError:\n",
        "  print('input must be numberic')\n",
        "except ZeroDivisionError:\n",
        "  print('can not divide by zero')"
      ],
      "execution_count": 28,
      "outputs": [
        {
          "output_type": "stream",
          "text": [
            "enter 1st number: fourty \n",
            "input must be numberic\n"
          ],
          "name": "stdout"
        }
      ]
    },
    {
      "cell_type": "code",
      "metadata": {
        "id": "NIcWXeRkFUMv",
        "outputId": "da581655-0c73-4e24-dfce-dc152629fd5a",
        "colab": {
          "base_uri": "https://localhost:8080/",
          "height": 122
        }
      },
      "source": [
        "try:\n",
        "  number1 = int(input('enter 1st number: '))\n",
        "  number2 = int(input('enter 2nd number: '))\n",
        "  print(number1 + number2) # addition \n",
        "  print(number1 - number2) \n",
        "  print(number1 * number2)\n",
        "  print(number1 / number2)\n",
        "except ValueError:\n",
        "  print('input must be numberic')\n",
        "except ZeroDivisionError:\n",
        "  print('can not divide by zero')"
      ],
      "execution_count": 29,
      "outputs": [
        {
          "output_type": "stream",
          "text": [
            "enter 1st number: 40\n",
            "enter 2nd number: 0\n",
            "40\n",
            "40\n",
            "0\n",
            "can not divide by zero\n"
          ],
          "name": "stdout"
        }
      ]
    },
    {
      "cell_type": "code",
      "metadata": {
        "id": "6dmAc5LBFX0K",
        "outputId": "1b50887a-e829-4575-da4b-c968c6039099",
        "colab": {
          "base_uri": "https://localhost:8080/",
          "height": 122
        }
      },
      "source": [
        "try:\n",
        "  number1 = int(input('enter 1st number: '))\n",
        "  number2 = int(input('enter 2nd number: '))\n",
        "  print(number1 + number2) # addition \n",
        "  print(number1 - number2) \n",
        "  print(number1 * number2)\n",
        "  print(number1 / number2)\n",
        "except ValueError:\n",
        "  print('input must be numberic')\n",
        "except ZeroDivisionError:\n",
        "  print('can not divide by zero')"
      ],
      "execution_count": 30,
      "outputs": [
        {
          "output_type": "stream",
          "text": [
            "enter 1st number: 40\n",
            "enter 2nd number: 5\n",
            "45\n",
            "35\n",
            "200\n",
            "8.0\n"
          ],
          "name": "stdout"
        }
      ]
    }
  ]
}